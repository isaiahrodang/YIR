{
  "nbformat": 4,
  "nbformat_minor": 0,
  "metadata": {
    "colab": {
      "provenance": []
    },
    "kernelspec": {
      "name": "python3",
      "display_name": "Python 3"
    },
    "language_info": {
      "name": "python"
    }
  },
  "cells": [
    {
      "cell_type": "code",
      "execution_count": null,
      "metadata": {
        "id": "36ZblkQ18J5m"
      },
      "outputs": [],
      "source": [
        "#Store spotify Client ID and Client Scret into a variable\n",
        "client_id =\n",
        "client_secret =\n",
        "\n",
        "#Requests access token from Spotify Account Services and sends to Spot API\n",
        "import base64\n",
        "from requests import post, get\n",
        "import json\n",
        "\n"
      ]
    },
    {
      "cell_type": "code",
      "source": [
        "#Gets the personalized token from Account\n",
        "def get_token():\n",
        "    auth_string = client_id + \":\" + client_secret\n",
        "    auth_bytes = auth_string.encode (\"utf-8\")\n",
        "    auth_base64 = str(base64.b64encode(auth_bytes), \"utf-8\")\n",
        "\n",
        "    url = \"https://accounts.spotify.com/api/token\"\n",
        "    headers = {\n",
        "        \"Authorization\": \"Basic \" + auth_base64,\n",
        "        \"Content-Type\" : \"application/x-www-form-urlencoded\"\n",
        "    }\n",
        "    data = {\"grant_type\": \"client_credentials\"}\n",
        "    result = post(url, headers=headers, data=data)\n",
        "    json_result = json.loads(result.content)\n",
        "    token = json_result[\"access_token\"]\n",
        "    return token"
      ],
      "metadata": {
        "id": "QQIMaY1n8s0d"
      },
      "execution_count": null,
      "outputs": []
    },
    {
      "cell_type": "code",
      "source": [
        "#Gets the token and authorizes the API\n",
        "def get_auth_header(token):\n",
        "    return {\"Authorization\" : \"Bearer \" + token}"
      ],
      "metadata": {
        "id": "_bGObKbS93Gw"
      },
      "execution_count": null,
      "outputs": []
    },
    {
      "cell_type": "code",
      "source": [
        "#allows user to search for an artist\n",
        "def search_for_artist(token, artist_name):\n",
        "    url = \" https://api.spotify.com/v1/search\"\n",
        "    headers = get_auth_header(token)\n",
        "    query = f\"q={artist_name}&type=artist&limit=1\" ##F STRING because this allows what is inside of the quotation marks to be edited\n",
        "\n",
        "    query_url = url +  \"?\" + query\n",
        "    result = get(query_url, headers=headers)\n",
        "    json_result = json.loads(result.content)[\"artists\"][\"items\"]\n",
        "    if len(json_result) == 0:\n",
        "      print(\"Error: unknown artist. Perhaps the name was misspelled?\")\n",
        "    #print(json_result)\n",
        "    return json_result\n",
        "\n",
        "    #call artist search function and store results for Ice Spice in variable\n",
        "    ice_spice_info = search_for_artist(research_token, \"Ice Spice\")\n",
        "    ice_spice_info"
      ],
      "metadata": {
        "id": "fQD73Jaa97X4"
      },
      "execution_count": null,
      "outputs": []
    },
    {
      "cell_type": "code",
      "source": [
        "#replicated to get only the top tracks\n",
        "def search_for_tracks(token, album):\n",
        "  url = \" https://api.spotify.com/v1/search\"\n",
        "  headers = get_auth_header(token)\n",
        "  query = f\"q={album}&type=artist&limit=1\"\n",
        "\n",
        "  query_url = url +  \"?\" + query\n",
        "  result = get(query_url, headers=headers)\n",
        "  json_result = json.loads(result.content)\n",
        "\n",
        "  print(album)\n",
        "\n",
        "\n"
      ],
      "metadata": {
        "id": "qQK7ZI56Ha-n"
      },
      "execution_count": null,
      "outputs": []
    },
    {
      "cell_type": "code",
      "source": [
        "token = get_token()\n",
        "search_for_artist(token, \"Taylor Swift\" )"
      ],
      "metadata": {
        "colab": {
          "base_uri": "https://localhost:8080/"
        },
        "id": "MoTBadVH-Ajr",
        "outputId": "544ff7d5-041d-4823-e0f9-206f07e906bc"
      },
      "execution_count": null,
      "outputs": [
        {
          "output_type": "execute_result",
          "data": {
            "text/plain": [
              "[{'external_urls': {'spotify': 'https://open.spotify.com/artist/06HL4z0CvFAxyc27GXpf02'},\n",
              "  'followers': {'href': None, 'total': 107255788},\n",
              "  'genres': ['pop'],\n",
              "  'href': 'https://api.spotify.com/v1/artists/06HL4z0CvFAxyc27GXpf02',\n",
              "  'id': '06HL4z0CvFAxyc27GXpf02',\n",
              "  'images': [{'height': 640,\n",
              "    'url': 'https://i.scdn.co/image/ab6761610000e5ebe672b5f553298dcdccb0e676',\n",
              "    'width': 640},\n",
              "   {'height': 320,\n",
              "    'url': 'https://i.scdn.co/image/ab67616100005174e672b5f553298dcdccb0e676',\n",
              "    'width': 320},\n",
              "   {'height': 160,\n",
              "    'url': 'https://i.scdn.co/image/ab6761610000f178e672b5f553298dcdccb0e676',\n",
              "    'width': 160}],\n",
              "  'name': 'Taylor Swift',\n",
              "  'popularity': 100,\n",
              "  'type': 'artist',\n",
              "  'uri': 'spotify:artist:06HL4z0CvFAxyc27GXpf02'}]"
            ]
          },
          "metadata": {},
          "execution_count": 6
        }
      ]
    }
  ]
}